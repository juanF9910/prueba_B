{
 "cells": [
  {
   "cell_type": "markdown",
   "metadata": {},
   "source": [
    "# RESUMEN: \n",
    "\n",
    "### En forma general el modelo se basa en dos partes, la primera en encontrar los libros similares basándonos en las reseñas y la segunda partes es recomendar los libros similares con mejores calificaciones. "
   ]
  },
  {
   "cell_type": "markdown",
   "metadata": {},
   "source": [
    "# 1) EXPLORACIÓN DE LOS DATOS "
   ]
  },
  {
   "cell_type": "code",
   "execution_count": 2,
   "metadata": {},
   "outputs": [],
   "source": [
    "import pandas as pd"
   ]
  },
  {
   "cell_type": "markdown",
   "metadata": {},
   "source": [
    "En mi computaor la carga de los datos completos se demora 20min, por esto voy a disminuir el tamaño de los dataframes para poder ilustrar el proceso"
   ]
  },
  {
   "cell_type": "code",
   "execution_count": 49,
   "metadata": {},
   "outputs": [],
   "source": [
    "books = pd.read_csv('books_data.csv', nrows=6000) #cargamos solamente las primeras 100000 filas de los dataframes\n",
    "ratings = pd.read_csv('Books_rating.csv', nrows=6000)"
   ]
  },
  {
   "cell_type": "code",
   "execution_count": 50,
   "metadata": {},
   "outputs": [
    {
     "data": {
      "text/html": [
       "<div>\n",
       "<style scoped>\n",
       "    .dataframe tbody tr th:only-of-type {\n",
       "        vertical-align: middle;\n",
       "    }\n",
       "\n",
       "    .dataframe tbody tr th {\n",
       "        vertical-align: top;\n",
       "    }\n",
       "\n",
       "    .dataframe thead th {\n",
       "        text-align: right;\n",
       "    }\n",
       "</style>\n",
       "<table border=\"1\" class=\"dataframe\">\n",
       "  <thead>\n",
       "    <tr style=\"text-align: right;\">\n",
       "      <th></th>\n",
       "      <th>Title</th>\n",
       "      <th>description</th>\n",
       "      <th>authors</th>\n",
       "      <th>image</th>\n",
       "      <th>previewLink</th>\n",
       "      <th>publisher</th>\n",
       "      <th>publishedDate</th>\n",
       "      <th>infoLink</th>\n",
       "      <th>categories</th>\n",
       "      <th>ratingsCount</th>\n",
       "    </tr>\n",
       "  </thead>\n",
       "  <tbody>\n",
       "    <tr>\n",
       "      <th>0</th>\n",
       "      <td>Its Only Art If Its Well Hung!</td>\n",
       "      <td>NaN</td>\n",
       "      <td>['Julie Strain']</td>\n",
       "      <td>http://books.google.com/books/content?id=DykPA...</td>\n",
       "      <td>http://books.google.nl/books?id=DykPAAAACAAJ&amp;d...</td>\n",
       "      <td>NaN</td>\n",
       "      <td>1996</td>\n",
       "      <td>http://books.google.nl/books?id=DykPAAAACAAJ&amp;d...</td>\n",
       "      <td>['Comics &amp; Graphic Novels']</td>\n",
       "      <td>NaN</td>\n",
       "    </tr>\n",
       "    <tr>\n",
       "      <th>1</th>\n",
       "      <td>Dr. Seuss: American Icon</td>\n",
       "      <td>Philip Nel takes a fascinating look into the k...</td>\n",
       "      <td>['Philip Nel']</td>\n",
       "      <td>http://books.google.com/books/content?id=IjvHQ...</td>\n",
       "      <td>http://books.google.nl/books?id=IjvHQsCn_pgC&amp;p...</td>\n",
       "      <td>A&amp;C Black</td>\n",
       "      <td>2005-01-01</td>\n",
       "      <td>http://books.google.nl/books?id=IjvHQsCn_pgC&amp;d...</td>\n",
       "      <td>['Biography &amp; Autobiography']</td>\n",
       "      <td>NaN</td>\n",
       "    </tr>\n",
       "    <tr>\n",
       "      <th>2</th>\n",
       "      <td>Wonderful Worship in Smaller Churches</td>\n",
       "      <td>This resource includes twelve principles in un...</td>\n",
       "      <td>['David R. Ray']</td>\n",
       "      <td>http://books.google.com/books/content?id=2tsDA...</td>\n",
       "      <td>http://books.google.nl/books?id=2tsDAAAACAAJ&amp;d...</td>\n",
       "      <td>NaN</td>\n",
       "      <td>2000</td>\n",
       "      <td>http://books.google.nl/books?id=2tsDAAAACAAJ&amp;d...</td>\n",
       "      <td>['Religion']</td>\n",
       "      <td>NaN</td>\n",
       "    </tr>\n",
       "    <tr>\n",
       "      <th>3</th>\n",
       "      <td>Whispers of the Wicked Saints</td>\n",
       "      <td>Julia Thomas finds her life spinning out of co...</td>\n",
       "      <td>['Veronica Haddon']</td>\n",
       "      <td>http://books.google.com/books/content?id=aRSIg...</td>\n",
       "      <td>http://books.google.nl/books?id=aRSIgJlq6JwC&amp;d...</td>\n",
       "      <td>iUniverse</td>\n",
       "      <td>2005-02</td>\n",
       "      <td>http://books.google.nl/books?id=aRSIgJlq6JwC&amp;d...</td>\n",
       "      <td>['Fiction']</td>\n",
       "      <td>NaN</td>\n",
       "    </tr>\n",
       "    <tr>\n",
       "      <th>4</th>\n",
       "      <td>Nation Dance: Religion, Identity and Cultural ...</td>\n",
       "      <td>NaN</td>\n",
       "      <td>['Edward Long']</td>\n",
       "      <td>NaN</td>\n",
       "      <td>http://books.google.nl/books?id=399SPgAACAAJ&amp;d...</td>\n",
       "      <td>NaN</td>\n",
       "      <td>2003-03-01</td>\n",
       "      <td>http://books.google.nl/books?id=399SPgAACAAJ&amp;d...</td>\n",
       "      <td>NaN</td>\n",
       "      <td>NaN</td>\n",
       "    </tr>\n",
       "  </tbody>\n",
       "</table>\n",
       "</div>"
      ],
      "text/plain": [
       "                                               Title  \\\n",
       "0                     Its Only Art If Its Well Hung!   \n",
       "1                           Dr. Seuss: American Icon   \n",
       "2              Wonderful Worship in Smaller Churches   \n",
       "3                      Whispers of the Wicked Saints   \n",
       "4  Nation Dance: Religion, Identity and Cultural ...   \n",
       "\n",
       "                                         description              authors  \\\n",
       "0                                                NaN     ['Julie Strain']   \n",
       "1  Philip Nel takes a fascinating look into the k...       ['Philip Nel']   \n",
       "2  This resource includes twelve principles in un...     ['David R. Ray']   \n",
       "3  Julia Thomas finds her life spinning out of co...  ['Veronica Haddon']   \n",
       "4                                                NaN      ['Edward Long']   \n",
       "\n",
       "                                               image  \\\n",
       "0  http://books.google.com/books/content?id=DykPA...   \n",
       "1  http://books.google.com/books/content?id=IjvHQ...   \n",
       "2  http://books.google.com/books/content?id=2tsDA...   \n",
       "3  http://books.google.com/books/content?id=aRSIg...   \n",
       "4                                                NaN   \n",
       "\n",
       "                                         previewLink  publisher publishedDate  \\\n",
       "0  http://books.google.nl/books?id=DykPAAAACAAJ&d...        NaN          1996   \n",
       "1  http://books.google.nl/books?id=IjvHQsCn_pgC&p...  A&C Black    2005-01-01   \n",
       "2  http://books.google.nl/books?id=2tsDAAAACAAJ&d...        NaN          2000   \n",
       "3  http://books.google.nl/books?id=aRSIgJlq6JwC&d...  iUniverse       2005-02   \n",
       "4  http://books.google.nl/books?id=399SPgAACAAJ&d...        NaN    2003-03-01   \n",
       "\n",
       "                                            infoLink  \\\n",
       "0  http://books.google.nl/books?id=DykPAAAACAAJ&d...   \n",
       "1  http://books.google.nl/books?id=IjvHQsCn_pgC&d...   \n",
       "2  http://books.google.nl/books?id=2tsDAAAACAAJ&d...   \n",
       "3  http://books.google.nl/books?id=aRSIgJlq6JwC&d...   \n",
       "4  http://books.google.nl/books?id=399SPgAACAAJ&d...   \n",
       "\n",
       "                      categories  ratingsCount  \n",
       "0    ['Comics & Graphic Novels']           NaN  \n",
       "1  ['Biography & Autobiography']           NaN  \n",
       "2                   ['Religion']           NaN  \n",
       "3                    ['Fiction']           NaN  \n",
       "4                            NaN           NaN  "
      ]
     },
     "execution_count": 50,
     "metadata": {},
     "output_type": "execute_result"
    }
   ],
   "source": [
    "books.head()\n"
   ]
  },
  {
   "cell_type": "code",
   "execution_count": 52,
   "metadata": {},
   "outputs": [
    {
     "data": {
      "text/html": [
       "<div>\n",
       "<style scoped>\n",
       "    .dataframe tbody tr th:only-of-type {\n",
       "        vertical-align: middle;\n",
       "    }\n",
       "\n",
       "    .dataframe tbody tr th {\n",
       "        vertical-align: top;\n",
       "    }\n",
       "\n",
       "    .dataframe thead th {\n",
       "        text-align: right;\n",
       "    }\n",
       "</style>\n",
       "<table border=\"1\" class=\"dataframe\">\n",
       "  <thead>\n",
       "    <tr style=\"text-align: right;\">\n",
       "      <th></th>\n",
       "      <th>Id</th>\n",
       "      <th>Title</th>\n",
       "      <th>Price</th>\n",
       "      <th>User_id</th>\n",
       "      <th>profileName</th>\n",
       "      <th>review/helpfulness</th>\n",
       "      <th>review/score</th>\n",
       "      <th>review/time</th>\n",
       "      <th>review/summary</th>\n",
       "      <th>review/text</th>\n",
       "    </tr>\n",
       "  </thead>\n",
       "  <tbody>\n",
       "    <tr>\n",
       "      <th>0</th>\n",
       "      <td>1882931173</td>\n",
       "      <td>Its Only Art If Its Well Hung!</td>\n",
       "      <td>NaN</td>\n",
       "      <td>AVCGYZL8FQQTD</td>\n",
       "      <td>Jim of Oz \"jim-of-oz\"</td>\n",
       "      <td>7/7</td>\n",
       "      <td>4.0</td>\n",
       "      <td>940636800</td>\n",
       "      <td>Nice collection of Julie Strain images</td>\n",
       "      <td>This is only for Julie Strain fans. It's a col...</td>\n",
       "    </tr>\n",
       "    <tr>\n",
       "      <th>1</th>\n",
       "      <td>0826414346</td>\n",
       "      <td>Dr. Seuss: American Icon</td>\n",
       "      <td>NaN</td>\n",
       "      <td>A30TK6U7DNS82R</td>\n",
       "      <td>Kevin Killian</td>\n",
       "      <td>10/10</td>\n",
       "      <td>5.0</td>\n",
       "      <td>1095724800</td>\n",
       "      <td>Really Enjoyed It</td>\n",
       "      <td>I don't care much for Dr. Seuss but after read...</td>\n",
       "    </tr>\n",
       "    <tr>\n",
       "      <th>2</th>\n",
       "      <td>0826414346</td>\n",
       "      <td>Dr. Seuss: American Icon</td>\n",
       "      <td>NaN</td>\n",
       "      <td>A3UH4UZ4RSVO82</td>\n",
       "      <td>John Granger</td>\n",
       "      <td>10/11</td>\n",
       "      <td>5.0</td>\n",
       "      <td>1078790400</td>\n",
       "      <td>Essential for every personal and Public Library</td>\n",
       "      <td>If people become the books they read and if \"t...</td>\n",
       "    </tr>\n",
       "    <tr>\n",
       "      <th>3</th>\n",
       "      <td>0826414346</td>\n",
       "      <td>Dr. Seuss: American Icon</td>\n",
       "      <td>NaN</td>\n",
       "      <td>A2MVUWT453QH61</td>\n",
       "      <td>Roy E. Perry \"amateur philosopher\"</td>\n",
       "      <td>7/7</td>\n",
       "      <td>4.0</td>\n",
       "      <td>1090713600</td>\n",
       "      <td>Phlip Nel gives silly Seuss a serious treatment</td>\n",
       "      <td>Theodore Seuss Geisel (1904-1991), aka &amp;quot;D...</td>\n",
       "    </tr>\n",
       "    <tr>\n",
       "      <th>4</th>\n",
       "      <td>0826414346</td>\n",
       "      <td>Dr. Seuss: American Icon</td>\n",
       "      <td>NaN</td>\n",
       "      <td>A22X4XUPKF66MR</td>\n",
       "      <td>D. H. Richards \"ninthwavestore\"</td>\n",
       "      <td>3/3</td>\n",
       "      <td>4.0</td>\n",
       "      <td>1107993600</td>\n",
       "      <td>Good academic overview</td>\n",
       "      <td>Philip Nel - Dr. Seuss: American IconThis is b...</td>\n",
       "    </tr>\n",
       "  </tbody>\n",
       "</table>\n",
       "</div>"
      ],
      "text/plain": [
       "           Id                           Title  Price         User_id  \\\n",
       "0  1882931173  Its Only Art If Its Well Hung!    NaN   AVCGYZL8FQQTD   \n",
       "1  0826414346        Dr. Seuss: American Icon    NaN  A30TK6U7DNS82R   \n",
       "2  0826414346        Dr. Seuss: American Icon    NaN  A3UH4UZ4RSVO82   \n",
       "3  0826414346        Dr. Seuss: American Icon    NaN  A2MVUWT453QH61   \n",
       "4  0826414346        Dr. Seuss: American Icon    NaN  A22X4XUPKF66MR   \n",
       "\n",
       "                          profileName review/helpfulness  review/score  \\\n",
       "0               Jim of Oz \"jim-of-oz\"                7/7           4.0   \n",
       "1                       Kevin Killian              10/10           5.0   \n",
       "2                        John Granger              10/11           5.0   \n",
       "3  Roy E. Perry \"amateur philosopher\"                7/7           4.0   \n",
       "4     D. H. Richards \"ninthwavestore\"                3/3           4.0   \n",
       "\n",
       "   review/time                                   review/summary  \\\n",
       "0    940636800           Nice collection of Julie Strain images   \n",
       "1   1095724800                                Really Enjoyed It   \n",
       "2   1078790400  Essential for every personal and Public Library   \n",
       "3   1090713600  Phlip Nel gives silly Seuss a serious treatment   \n",
       "4   1107993600                           Good academic overview   \n",
       "\n",
       "                                         review/text  \n",
       "0  This is only for Julie Strain fans. It's a col...  \n",
       "1  I don't care much for Dr. Seuss but after read...  \n",
       "2  If people become the books they read and if \"t...  \n",
       "3  Theodore Seuss Geisel (1904-1991), aka &quot;D...  \n",
       "4  Philip Nel - Dr. Seuss: American IconThis is b...  "
      ]
     },
     "execution_count": 52,
     "metadata": {},
     "output_type": "execute_result"
    }
   ],
   "source": [
    "ratings.head()"
   ]
  },
  {
   "cell_type": "markdown",
   "metadata": {},
   "source": [
    "### Selección de variables de interés"
   ]
  },
  {
   "cell_type": "markdown",
   "metadata": {},
   "source": [
    "De los dos dataframes anteriores identificamos que las variables más importantes para realizar el modelo de recomendación son: el número de número de identificación del libro, el título del libro, la calificación del libro y la reseña del libro. Vamos a descartar el dataframe books, pues si bien proporciona una variable de interés que es \"description\" esta variable se puede encontrar también en \"review/text\" del dataframe ratings. "
   ]
  },
  {
   "cell_type": "markdown",
   "metadata": {},
   "source": [
    "## 1.1) Exploremos la cantidad de valores faltantes"
   ]
  },
  {
   "cell_type": "code",
   "execution_count": 53,
   "metadata": {},
   "outputs": [
    {
     "name": "stdout",
     "output_type": "stream",
     "text": [
      "Id              0\n",
      "Title           0\n",
      "review/score    0\n",
      "review/text     0\n",
      "dtype: int64\n"
     ]
    }
   ],
   "source": [
    "ratings=ratings[['Id', 'Title', 'review/score', 'review/text']]\n",
    "print(ratings.isnull().sum())"
   ]
  },
  {
   "cell_type": "markdown",
   "metadata": {},
   "source": [
    "# 2) VECTORIZAR LAS RESEÑAS\n",
    "###  Ahora convirtamos las reseñas en vectores numéricos y calculemos la similitud usando el **criterio de coseno, la distancia euclidiana y la distancia de manhattan**, después de esto vamos a determinar cuáles son los libros más similares a un libro en particular. Luego la remendación la realizamos basandos en los libros más similares.\n"
   ]
  },
  {
   "cell_type": "code",
   "execution_count": 83,
   "metadata": {},
   "outputs": [],
   "source": [
    "from sklearn.feature_extraction.text import TfidfVectorizer\n",
    "from sklearn.metrics.pairwise import cosine_similarity, euclidean_distances, manhattan_distances\n",
    "\n",
    "tfidf = TfidfVectorizer(stop_words='english') # stop english significa que se eliminaran las palabras que no aportan informacion al análisis\n",
    "tfidf_matrix = tfidf.fit_transform(ratings['review/text']) # se crea la matriz de tfidf con los textos convertidos a números\n",
    "\n",
    "cosine_sim = cosine_similarity(tfidf_matrix) # se calcula la similitud coseno de la matriz de tfidf para obtener los libros más similares entre sí\n",
    "#de acuerdo a su reseña. \n",
    "euclidean_dist = euclidean_distances(tfidf_matrix) # se calcula la distancia euclidiana de la matriz de tfidf para obtener los libros más similares entre sí\n",
    "manhattan_dist = manhattan_distances(tfidf_matrix) # se calcula la distancia manhattan de la matriz de tfidf para obtener los libros más similares entre sí\n"
   ]
  },
  {
   "cell_type": "markdown",
   "metadata": {},
   "source": [
    "# 3) MODELOS DE RECOMENDACIÓN BASADO SÓLO EN LAS RESEÑAS"
   ]
  },
  {
   "cell_type": "markdown",
   "metadata": {},
   "source": [
    "## En esta parte del modelo sólo nos basamos en los reviews para encontrar los libros más similares, sin importar la calificación, eso lo harémos más adelante. "
   ]
  },
  {
   "cell_type": "code",
   "execution_count": 95,
   "metadata": {},
   "outputs": [],
   "source": [
    "def get_recommendations(book_title, u, n=3):\n",
    "\n",
    "    # Asegurarse de que el título del libro existe en el DataFrame, esto pues en mi caso no tomé todo el dataframe. \n",
    "\n",
    "    if book_title not in ratings['Title'].values:\n",
    "        return []\n",
    "\n",
    "    # Encuentra el ID del libro objetivo basado en el título\n",
    "    book_id = ratings[ratings['Title'] == book_title].iloc[0]['Id']\n",
    "\n",
    "    # Encuentra el índice del libro objetivo en el DataFrame\n",
    "    book_index = ratings[ratings['Id'] == book_id].index[0]\n",
    "\n",
    "    # Calcula las similitudes de las reseñas con diferentes métodos\n",
    "    if u==1: \n",
    "        sim_scores = list(enumerate(cosine_sim[book_index]))\n",
    "    if u==2: \n",
    "        sim_scores = list(enumerate(euclidean_dist[book_index]))\n",
    "    if u==3: \n",
    "        sim_scores = list(enumerate(manhattan_dist[book_index]))\n",
    "    \n",
    "\n",
    "    # Ordena los libros por similitud en orden descendente\n",
    "    sim_scores = sorted(sim_scores, key=lambda x: x[1], reverse=True)\n",
    "\n",
    "    # Excluye el propio libro de la lista y selecciona los n libros más similares\n",
    "    sim_scores = sim_scores[1:n+1]\n",
    "\n",
    "    # Obtiene los IDs de los libros más similares\n",
    "    similar_books = [ratings['Id'][i[0]] for i in sim_scores]\n",
    "\n",
    "    # Obtiene los nombres de los libros recomendados   \n",
    "\n",
    "    rec_books = []\n",
    "    for book in similar_books:\n",
    "        book_name = ratings[ratings['Id'] == book].iloc[0]['Title']\n",
    "        rec_books.append(book_name)\n",
    "\n",
    "    return rec_books\n"
   ]
  },
  {
   "cell_type": "code",
   "execution_count": 117,
   "metadata": {},
   "outputs": [
    {
     "name": "stdout",
     "output_type": "stream",
     "text": [
      "\n",
      "\n",
      "*********** método 1******************\n",
      "recomendaciones de acuerdo al libro: Its Only Art If Its Well Hung!\n",
      "['The Scarlet Letter A Romance', 'Mothman Prophecies', 'Cruel and Unusual (G K Hall Large Print Book Series (Cloth))']\n",
      "\n",
      "\n",
      "recomendaciones de acuerdo al libro: Wonderful Worship in Smaller Churches\n",
      "['Wonderful Worship in Smaller Churches', 'Wonderful Worship in Smaller Churches', 'The Gifted Adult: A Revolutionary Guide for Liberating Everyday Genius(tm)']\n",
      "\n",
      "\n",
      "***************************************\n",
      "\n",
      "\n",
      "*********** método 2******************\n",
      "recomendaciones de acuerdo al libro: Its Only Art If Its Well Hung!\n",
      "['Eyewitness Travel Guide to Europe', \"Dealing With Disappointment: Helping Kids Cope When Things Don't Go Their Way\", 'Cien Aos de BOXEO (One Hundred Years of Box)']\n",
      "\n",
      "\n",
      "recomendaciones de acuerdo al libro: Wonderful Worship in Smaller Churches\n",
      "['Vector Quantization and Signal Compression (The Springer International Series in Engineering and Computer Science)', 'Voices from the Farm: Adventures in Community Living', 'Usa Laminated Map']\n",
      "\n",
      "\n",
      "***************************************\n",
      "\n",
      "\n",
      "*********** método 3******************\n",
      "recomendaciones de acuerdo al libro: Its Only Art If Its Well Hung!\n",
      "[\"Plain And Simple - A Woman's Journey To The Amish\", 'A Wise Woman', 'Mothman Prophecies']\n",
      "\n",
      "\n",
      "recomendaciones de acuerdo al libro: Wonderful Worship in Smaller Churches\n",
      "[\"Plain And Simple - A Woman's Journey To The Amish\", 'A Wise Woman', 'Mothman Prophecies']\n",
      "\n",
      "\n",
      "***************************************\n"
     ]
    }
   ],
   "source": [
    "libros=['Its Only Art If Its Well Hung!', 'Wonderful Worship in Smaller Churches' ]\n",
    "\n",
    "\n",
    "for u in [1, 2, 3]:\n",
    "       print('\\n')\n",
    "       print('*********** método {}******************'.format(u))\n",
    "       \n",
    "       for l in libros:\n",
    "              print('recomendaciones de acuerdo al libro:', l)\n",
    "              print(get_recommendations(l, u, n=3))\n",
    "              print('\\n')\n",
    "       print('***************************************')"
   ]
  },
  {
   "cell_type": "markdown",
   "metadata": {},
   "source": [
    "# 4) MODELOS DE RECOMENDACIÓN BASADO EN CALIFICACIÓN NUMÉRICA.\n",
    "\n",
    "## En esta parte del modelo nos centramos solamente en las calificaciones de los libros, no es sus reseñas. "
   ]
  },
  {
   "cell_type": "markdown",
   "metadata": {},
   "source": [
    "El paquete surprise es una biblioteca de Python especializada en la construcción y evaluación de sistemas de recomendación. "
   ]
  },
  {
   "cell_type": "markdown",
   "metadata": {},
   "source": [
    "Usaremos los 3 modelos de recomendación más usados de la librería surprise: KNNBasic, SVD y  SlopeOne. Luego comparemos su desempeño usando diferentes métricas como mae,  rmse y mse:\n",
    "\n",
    "RMSE (Root Mean Squared Error): Mide la raíz cuadrada del error cuadrático medio entre las predicciones y los valores reales. Una métrica útil para entender la magnitud del error en las mismas unidades que las calificaciones originales.\n",
    "\n",
    "MAE (Mean Absolute Error): Mide el error absoluto promedio entre las predicciones y los valores reales. Proporciona una medida de la precisión del modelo en términos de desviación media de las predicciones.\n",
    "\n",
    "MSE (Mean Squared Error): Mide el promedio de los errores cuadrados entre las predicciones y los valores reales. Similar al RMSE pero sin la raíz cuadrada, es más sensible a los grandes errores debido al efecto cuadrático.\n"
   ]
  },
  {
   "cell_type": "code",
   "execution_count": 9,
   "metadata": {},
   "outputs": [],
   "source": [
    "#prepraramos los datos para el modelo de recomendación \n",
    "from surprise import Dataset, Reader, KNNBasic, SlopeOne, SVD\n",
    "from surprise.model_selection import train_test_split\n",
    "from surprise import accuracy\n",
    "\n",
    "reader = Reader(rating_scale=(1, 5))\n",
    "data = Dataset.load_from_df(ratings[['Id','Title' ,'review/score']], reader)\n",
    "\n",
    "trainset, testset = train_test_split(data, test_size=0.25)"
   ]
  },
  {
   "cell_type": "markdown",
   "metadata": {},
   "source": [
    "## 4.1) KNNBasic"
   ]
  },
  {
   "cell_type": "code",
   "execution_count": 10,
   "metadata": {},
   "outputs": [
    {
     "name": "stdout",
     "output_type": "stream",
     "text": [
      "Computing the cosine similarity matrix...\n",
      "Done computing similarity matrix.\n",
      "RMSE: 1.2112\n",
      "MAE:  0.9038\n",
      "MSE: 1.4669\n"
     ]
    },
    {
     "data": {
      "text/plain": [
       "1.4668965272292076"
      ]
     },
     "execution_count": 10,
     "metadata": {},
     "output_type": "execute_result"
    }
   ],
   "source": [
    "sim_options = {\n",
    "    'name': 'cosine',\n",
    "    'user_based': False  # Calcular similitudes entre ítems\n",
    "}\n",
    "\n",
    "\n",
    "from sklearn.pipeline import Pipeline\n",
    "from sklearn.impute import SimpleImputer\n",
    "from sklearn.model_selection import cross_val_score\n",
    "\n",
    "\n",
    "\n",
    "modelo1 = KNNBasic(sim_options=sim_options)\n",
    "modelo1.fit(trainset)\n",
    "\n",
    "# Evaluar el algoritmo\n",
    "predictions = modelo1.test(testset)\n",
    "accuracy.rmse(predictions)\n",
    "accuracy.mae(predictions)\n",
    "accuracy.mse(predictions)\n",
    "\n"
   ]
  },
  {
   "cell_type": "markdown",
   "metadata": {},
   "source": [
    "## 4.2) SVD"
   ]
  },
  {
   "cell_type": "code",
   "execution_count": 11,
   "metadata": {},
   "outputs": [
    {
     "name": "stdout",
     "output_type": "stream",
     "text": [
      "RMSE: 1.1916\n",
      "MAE:  0.9154\n",
      "MSE: 1.4200\n"
     ]
    }
   ],
   "source": [
    "# Crear el modelo SVD\n",
    "modelo2 = SVD()\n",
    "\n",
    "# Entrenar el modelo con los datos de entrenamiento\n",
    "modelo2.fit(trainset)\n",
    "\n",
    "# Evaluar el modelo con los datos de prueba\n",
    "predictions2 = modelo2.test(testset)\n",
    "\n",
    "# Calcular y mostrar las métricas de evaluación\n",
    "rmse = accuracy.rmse(predictions2)\n",
    "mae = accuracy.mae(predictions2)\n",
    "mse = accuracy.mse(predictions2)"
   ]
  },
  {
   "cell_type": "markdown",
   "metadata": {},
   "source": [
    "## 4.3) SlopeOne"
   ]
  },
  {
   "cell_type": "code",
   "execution_count": 12,
   "metadata": {},
   "outputs": [
    {
     "name": "stdout",
     "output_type": "stream",
     "text": [
      "RMSE: 1.2083\n",
      "MAE:  0.9137\n",
      "MSE: 1.4600\n"
     ]
    }
   ],
   "source": [
    "# Crear el modelo Slope One\n",
    "modelo3 = SlopeOne()\n",
    "\n",
    "# Entrenar el modelo con los datos de entrenamiento\n",
    "modelo3.fit(trainset)\n",
    "\n",
    "# Evaluar el modelo con los datos de prueba\n",
    "predictions3 = modelo3.test(testset)\n",
    "\n",
    "# Calcular y mostrar las métricas de evaluación\n",
    "rmse = accuracy.rmse(predictions3)\n",
    "mae = accuracy.mae(predictions3)\n",
    "mse = accuracy.mse(predictions3)"
   ]
  },
  {
   "cell_type": "markdown",
   "metadata": {},
   "source": [
    "# 5)  APLICACIÓN DEL MODELO COLABORATIVO, ES DECIR, BASADO EN REVIEWS Y CALIFICACIONES"
   ]
  },
  {
   "cell_type": "markdown",
   "metadata": {},
   "source": [
    "## Seleccionamos el modelo que nos dio mejores métricas (SVD) y lo combinamos con el modelo de recomendación basado en los reviews, para seleccionar los libros similares y que además puedan tener las calificaciones más altas. "
   ]
  },
  {
   "cell_type": "code",
   "execution_count": 102,
   "metadata": {},
   "outputs": [],
   "source": [
    "# Recomendaciones basadas en el modelo de filtrado colaborativo\n",
    "def get_collab_recommendations(book_title, n=3):\n",
    "\n",
    "    return 0"
   ]
  },
  {
   "cell_type": "markdown",
   "metadata": {},
   "source": [
    "# "
   ]
  }
 ],
 "metadata": {
  "kernelspec": {
   "display_name": "Python 3",
   "language": "python",
   "name": "python3"
  },
  "language_info": {
   "codemirror_mode": {
    "name": "ipython",
    "version": 3
   },
   "file_extension": ".py",
   "mimetype": "text/x-python",
   "name": "python",
   "nbconvert_exporter": "python",
   "pygments_lexer": "ipython3",
   "version": "3.10.12"
  }
 },
 "nbformat": 4,
 "nbformat_minor": 2
}
